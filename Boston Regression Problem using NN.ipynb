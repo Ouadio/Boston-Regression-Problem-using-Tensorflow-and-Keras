{
 "cells": [
  {
   "cell_type": "markdown",
   "metadata": {},
   "source": [
    "# Boston Regression Problem using NN (With Keras & Tensorflow)\n",
    "## Overview of the Boston Data Set\n",
    "\n",
    "Some informations about the data :  \n",
    "This dataset contains information collected by the U.S Census Service concerning housing in the area of Boston Mass. It was obtained from the StatLib archive (http://lib.stat.cmu.edu/datasets/boston), and has been used extensively throughout the literature to benchmark algorithms. However, these comparisons were primarily done outside of Delve and are thus somewhat suspect. The dataset is small in size with only 506 cases.\n",
    "\n",
    "The data was originally published by Harrison, D. and Rubinfeld, D.L. \"Hedonic prices and the demand for clean air', J. Environ. Economics & Management, vol.5, 81-102, 1978.\"  \n",
    "### Attributes : \n",
    "There are 14 attributes in each case of the dataset. They are:  \n",
    "   > *Independent Variables* :  \n",
    "- **crim** : per capita crime rate by town.  \n",
    "- **zn** : proportion of residential land zoned for lots over 25,000 sq.ft.  \n",
    "- **indus** : proportion of non-retail business acres per town.  \n",
    "- **chas** : Charles River dummy variable (= 1 if tract bounds river; 0 otherwise).  \n",
    "- **nox** : nitrogen oxides concentration (parts per 10 million).  \n",
    "- **rm** : average number of rooms per dwelling.  \n",
    "- **age** : proportion of owner-occupied units built prior to 1940.  \n",
    "- **dis** : weighted mean of distances to five Boston employment centres.  \n",
    "- **rad** : index of accessibility to radial highways.  \n",
    "- **tax** : full-value property-tax rate per 10,000 Dollars.\n",
    "- **ptratio** : pupil-teacher ratio by town.\n",
    "- **black** : 1000(Bk - 0.63)^2 where Bk is the proportion of blacks by town.  \n",
    "- **lstat** : lower status of the population (percent).    \n",
    "\n",
    " > *Target Variable* :  \n",
    "- **medv** : median value of owner-occupied homes in 1000s Dollars.  \n",
    "\n",
    "<img src=\"bostonPic.jpg\">\n"
   ]
  },
  {
   "cell_type": "code",
   "execution_count": 168,
   "metadata": {},
   "outputs": [],
   "source": [
    "#Importing libraries\n",
    "#Basics\n",
    "import matplotlib.pyplot as plt\n",
    "import numpy as np\n",
    "import pandas as pd\n",
    "\n",
    "#Keras\n",
    "from keras import models\n",
    "from keras import layers\n",
    "import keras.utils as kut  #For categorization\n",
    "\n",
    "#SKLearn\n",
    "from sklearn import ensemble, datasets, preprocessing\n",
    "from sklearn.model_selection import train_test_split\n",
    "from sklearn.metrics import mean_squared_error\n",
    "\n",
    "#Tensorflow\n",
    "import tensorflow as tf\n"
   ]
  },
  {
   "cell_type": "markdown",
   "metadata": {},
   "source": [
    "## Loading & Preprocessing Data for modeling"
   ]
  },
  {
   "cell_type": "code",
   "execution_count": 169,
   "metadata": {},
   "outputs": [],
   "source": [
    "boston = datasets.load_boston()\n",
    "X = boston.data\n",
    "y = boston.target"
   ]
  },
  {
   "cell_type": "code",
   "execution_count": 170,
   "metadata": {},
   "outputs": [
    {
     "name": "stdout",
     "output_type": "stream",
     "text": [
      "X shape = (506, 13)\n",
      "Y shape = (506,)\n"
     ]
    }
   ],
   "source": [
    "print(\"X shape = \"+str(X.shape))\n",
    "print(\"Y shape = \"+str(y.shape))\n"
   ]
  },
  {
   "cell_type": "markdown",
   "metadata": {},
   "source": [
    "Having about 500 Observations (which is not a large number), the split is usually done in a 80/20 proportion."
   ]
  },
  {
   "cell_type": "code",
   "execution_count": 171,
   "metadata": {},
   "outputs": [
    {
     "name": "stdout",
     "output_type": "stream",
     "text": [
      "Train shape(404, 13)\n",
      "Test shape(102, 13)\n"
     ]
    }
   ],
   "source": [
    "X_train,X_test,y_train,y_test=train_test_split(X,y,random_state=1995, test_size = 0.2)\n",
    "\n",
    "print(\"Train shape\"+str(X_train.shape))\n",
    "print(\"Test shape\"+str(X_test.shape))\n",
    "\n",
    "y_train = y_train.reshape((y_train.shape[0],))"
   ]
  },
  {
   "cell_type": "markdown",
   "metadata": {},
   "source": [
    "We scale-up data to make the training process easier and more efficient."
   ]
  },
  {
   "cell_type": "code",
   "execution_count": 172,
   "metadata": {},
   "outputs": [],
   "source": [
    "#Preprocessing : scaling up\n",
    "scaler = preprocessing.StandardScaler().fit(X_train)\n",
    "X_train = scaler.transform(X_train)\n",
    "X_test = scaler.transform(X_test)\n"
   ]
  },
  {
   "cell_type": "markdown",
   "metadata": {},
   "source": [
    "## Random Forest Model as a Base-line (With SKLearn)\n",
    "  To decide wether a DNN is worth using for a modeling task, it's often preferable to start with a base-line model (a kind of benchmark), to evaluate its accuracy and see if it can be further improved. Usually, random Forests are a superb choice for setting that base-line.  \n",
    "In the next lines of code, we train and evaluate a random forest model with a given set of hyperparameters (max_features (m), n_estimators (n_trees), max_depth..)"
   ]
  },
  {
   "cell_type": "code",
   "execution_count": 173,
   "metadata": {},
   "outputs": [
    {
     "data": {
      "text/plain": [
       "RandomForestRegressor(bootstrap=True, criterion='mse', max_depth=2,\n",
       "           max_features=8, max_leaf_nodes=None, min_impurity_decrease=0.0,\n",
       "           min_impurity_split=None, min_samples_leaf=1,\n",
       "           min_samples_split=2, min_weight_fraction_leaf=0.0,\n",
       "           n_estimators=5000, n_jobs=1, oob_score=False, random_state=1996,\n",
       "           verbose=0, warm_start=False)"
      ]
     },
     "execution_count": 173,
     "metadata": {},
     "output_type": "execute_result"
    }
   ],
   "source": [
    "# Model definition\n",
    "rfModel = ensemble.RandomForestRegressor(n_estimators=5000, max_features=8, max_depth=2, random_state=1996)\n",
    "\n",
    "# Model Training\n",
    "rfModel.fit(X_train, y_train)\n"
   ]
  },
  {
   "cell_type": "code",
   "execution_count": 174,
   "metadata": {},
   "outputs": [
    {
     "name": "stdout",
     "output_type": "stream",
     "text": [
      "Train RMSE for RF Model = 4.2436195242046715\n",
      "Test RMSE for RF Model = 4.912176723129005\n"
     ]
    }
   ],
   "source": [
    "# Predictions & Accuracy\n",
    "y_pred_rf = rfModel.predict(X_train)\n",
    "y_test_pred_rf = rfModel.predict(X_test)\n",
    "print(\"Train RMSE for RF Model = \"+str(np.sqrt(mean_squared_error(y_train, y_pred_rf))))\n",
    "print(\"Test RMSE for RF Model = \"+str(np.sqrt(mean_squared_error(y_test, y_test_pred_rf))))\n",
    "\n"
   ]
  },
  {
   "cell_type": "code",
   "execution_count": 175,
   "metadata": {},
   "outputs": [
    {
     "data": {
      "image/png": "[encoded data removed]",
      "text/plain": [
       "<Figure size 432x288 with 1 Axes>"
      ]
     },
     "metadata": {},
     "output_type": "display_data"
    },
    {
     "data": {
      "image/png": "[encoded data removed]",
      "text/plain": [
       "<Figure size 432x288 with 1 Axes>"
      ]
     },
     "metadata": {},
     "output_type": "display_data"
    }
   ],
   "source": [
    "#Plotting the true/predicted values scatter plot\n",
    "plt.title(\"Train accuracy\")\n",
    "plt.scatter(y_train,y_pred_rf)\n",
    "plt.show()\n",
    "\n",
    "plt.title(\"Train accuracy\")\n",
    "plt.scatter(y_test,y_test_pred_rf)\n",
    "plt.show()"
   ]
  },
  {
   "cell_type": "markdown",
   "metadata": {},
   "source": [
    "The results are quiet acceptable and there is no overfitting.  \n",
    "**Note** : *The observation points being stuck at 50 for medv variable (medium value of owner-occupied homes in 1000 Dollars) are a sign of a censored data. We will ignore it in this notebook.*"
   ]
  },
  {
   "cell_type": "markdown",
   "metadata": {},
   "source": [
    "## Using a Deep Neural Network Model (With Keras)\n",
    "\n",
    "- The core architecture of the NN to be used :  \n",
    "**Input ->(Linear[64] > Relu) -> (Linear[64] > Relu) -> (Linear[64] > Relu) -> Output**  \n",
    "- Optimize : Adam  \n",
    "- Loss : MSE  \n",
    "- Processing type : Mini-Batch (size = 101)\n",
    "- Epoches : 2000"
   ]
  },
  {
   "cell_type": "code",
   "execution_count": 209,
   "metadata": {},
   "outputs": [],
   "source": [
    "#Model Building \n",
    "myNetwork = models.Sequential()\n",
    "myNetwork.add(layers.Dense(64, activation='relu', input_shape=(X_train.shape[1],)))    #First layer\n",
    "myNetwork.add(layers.Dense(64, activation='relu', input_shape=(64,)))    #Second layer\n",
    "myNetwork.add(layers.Dense(1, activation='relu', input_shape=(64,)))  #Third layer (output)\n",
    "myNetwork.compile(optimizer='Adam', loss='mean_squared_error', metrics=['mse'])"
   ]
  },
  {
   "cell_type": "code",
   "execution_count": 210,
   "metadata": {},
   "outputs": [
    {
     "data": {
      "text/plain": [
       "<keras.callbacks.History at 0x1a2f65be80>"
      ]
     },
     "execution_count": 210,
     "metadata": {},
     "output_type": "execute_result"
    }
   ],
   "source": [
    "myNetwork.fit(X_train, y_train, epochs=2000, batch_size=101, verbose=False)"
   ]
  },
  {
   "cell_type": "code",
   "execution_count": 211,
   "metadata": {},
   "outputs": [
    {
     "name": "stdout",
     "output_type": "stream",
     "text": [
      "Train RMSE for DNN Model (Keras) = 0.43912498998512156\n",
      "Test RMSE for DNN Model (Keras) = 3.747942097206936\n"
     ]
    }
   ],
   "source": [
    "# Predictions & Accuracy\n",
    "y_pred_dnn_keras = myNetwork.predict(X_train)          # We can also use myNetwork.evaluate(X_test, y_test)\n",
    "y_test_pred_dnn_keras = myNetwork.predict(X_test)\n",
    "print(\"Train RMSE for DNN Model (Keras) = \"+str(np.sqrt(mean_squared_error(y_train, y_pred_dnn_keras))))\n",
    "print(\"Test RMSE for DNN Model (Keras) = \"+str(np.sqrt(mean_squared_error(y_test, y_test_pred_dnn_keras))))\n",
    "\n"
   ]
  },
  {
   "cell_type": "code",
   "execution_count": 212,
   "metadata": {},
   "outputs": [
    {
     "data": {
      "image/png": "[encoded data removed]",
      "text/plain": [
       "<Figure size 432x288 with 1 Axes>"
      ]
     },
     "metadata": {},
     "output_type": "display_data"
    },
    {
     "data": {
      "image/png": "[encoded data removed]",
      "text/plain": [
       "<Figure size 432x288 with 1 Axes>"
      ]
     },
     "metadata": {},
     "output_type": "display_data"
    }
   ],
   "source": [
    "#Plotting the true/predicted values scatter plot\n",
    "plt.title(\"Predicted Vs True (Train)\")\n",
    "plt.scatter(y_train,y_pred_dnn_keras)\n",
    "plt.show()\n",
    "\n",
    "plt.title(\"Predicted Vs True (Test)\")\n",
    "plt.scatter(y_test,y_test_pred_dnn_keras)\n",
    "plt.show()"
   ]
  },
  {
   "cell_type": "markdown",
   "metadata": {},
   "source": [
    "Using Keras, a basic Neural Network with 3 hidden layers and default hyperparameters shows a mediocre accuracy and a clear overfitting. Compared to our base-line, this model didn't pass the test. In the next demo, we try to adress these problems with some improvment technics using a lower API : Tensorflow."
   ]
  },
  {
   "cell_type": "markdown",
   "metadata": {},
   "source": [
    "## Using a Deep Neural Network Model (With Tensorflow)\n",
    "- The core architecture of the NN to be used (Same as before) :  \n",
    "**Input ->(Linear[64] > Relu6) -> (Linear[64] > Relu6) -> (Linear[64] > Relu) -> Output**  \n",
    "- Optimize : Gradient Descent  \n",
    "- Learning rate : 0.001\n",
    "- Loss : MSE  \n",
    "- Processing type : Mini-Batch (size = 101)\n",
    "- Epoches : 10000"
   ]
  },
  {
   "cell_type": "code",
   "execution_count": 213,
   "metadata": {},
   "outputs": [],
   "source": [
    "y_train = y_train.reshape((y_train.shape[0],1))\n",
    "y_test = y_test.reshape((y_test.shape[0],1))"
   ]
  },
  {
   "cell_type": "code",
   "execution_count": 216,
   "metadata": {},
   "outputs": [],
   "source": [
    "\n",
    "#HyperParameters : \n",
    "myLayers = np.array([X_train.shape[1], 64, 64,1])\n",
    "alpha = 0.001\n",
    "\n",
    "#Graph building\n",
    "myGraph = tf.Graph()\n",
    "with myGraph.as_default():\n",
    "    with tf.name_scope(\"Placeholders\"):\n",
    "        x = tf.placeholder(dtype=tf.float32, shape=(None,X_train.shape[1]), name=\"input\")\n",
    "        y = tf.placeholder(dtype=tf.float32, shape=(None,1), name=\"output\")\n",
    "        \n",
    "    with tf.name_scope(\"h_layer1\"):\n",
    "        W1 = tf.Variable(tf.truncated_normal((myLayers[0], myLayers[1])), dtype=tf.float32)\n",
    "        b1 = tf.Variable(tf.truncated_normal((myLayers[1],)))\n",
    "        Z1 = tf.matmul(tf.squeeze(x), W1)+b1\n",
    "        A1 = tf.nn.relu6(Z1)\n",
    "    with tf.name_scope(\"h_layer2\"):\n",
    "        W2 = tf.Variable(tf.truncated_normal((myLayers[1], myLayers[2])), dtype=tf.float32)\n",
    "        b2 = tf.Variable(tf.truncated_normal((myLayers[2],)))\n",
    "        Z2 = tf.matmul(A1, W2)+b2\n",
    "        A2 = tf.nn.relu6(Z2)\n",
    "    \n",
    "    with tf.name_scope(\"out_layer\"):\n",
    "        W3 = tf.Variable(tf.truncated_normal((myLayers[2], myLayers[3])), dtype=tf.float32)\n",
    "        b3 = tf.Variable(tf.truncated_normal((myLayers[3],)))\n",
    "        Z3 = tf.matmul(A2, W3)+b3\n",
    "        outputIt = tf.nn.relu(Z3)\n",
    "\n",
    "        \n",
    "    with tf.name_scope(\"cost\"):\n",
    "        c = tf.reduce_mean((y-outputIt)**2)\n",
    "    \n",
    "    with tf.name_scope(\"optimizer\"):\n",
    "        trainIt = tf.train.GradientDescentOptimizer(learning_rate=alpha).minimize(c)\n",
    "    \n",
    "    initializer = tf.global_variables_initializer()\n",
    "    "
   ]
  },
  {
   "cell_type": "code",
   "execution_count": 217,
   "metadata": {},
   "outputs": [
    {
     "name": "stdout",
     "output_type": "stream",
     "text": [
      "Cost at epoch 0 = 512.702148\n",
      "Cost at epoch 1000 = 0.257325\n",
      "Cost at epoch 2000 = 0.120817\n",
      "Cost at epoch 3000 = 0.092892\n",
      "Cost at epoch 4000 = 0.082184\n",
      "Cost at epoch 5000 = 0.077260\n",
      "Cost at epoch 6000 = 0.074120\n",
      "Cost at epoch 7000 = 0.072057\n",
      "Cost at epoch 8000 = 0.070567\n",
      "Cost at epoch 9000 = 0.069477\n",
      "Train RMSE for DNN Model (TF) = 0.261209434200303\n",
      "Test RMSE for DNN Model (TF) = 6.5678813404385075\n"
     ]
    },
    {
     "data": {
      "image/png": "[encoded data removed]",
      "text/plain": [
       "<Figure size 432x288 with 1 Axes>"
      ]
     },
     "metadata": {},
     "output_type": "display_data"
    },
    {
     "data": {
      "image/png": "[encoded data removed]",
      "text/plain": [
       "<Figure size 432x288 with 1 Axes>"
      ]
     },
     "metadata": {},
     "output_type": "display_data"
    },
    {
     "data": {
      "image/png": "[encoded data removed]",
      "text/plain": [
       "<Figure size 432x288 with 1 Axes>"
      ]
     },
     "metadata": {},
     "output_type": "display_data"
    }
   ],
   "source": [
    "#Run the session : \n",
    "#Train Parameters :\n",
    "n_epoches = 10000\n",
    "batch_size = 101\n",
    "n_batches = X_train.shape[0]//batch_size\n",
    "\n",
    "mySession = tf.Session(graph=myGraph)\n",
    "with tf.Session(graph=myGraph) as mySession : \n",
    "    mySession.run(initializer)\n",
    "    myCosts = list()\n",
    "    \n",
    "    for i in range(n_epoches):\n",
    "        myC = list()\n",
    "        for k in range(n_batches):\n",
    "            feedDict = {x:X_train[k*batch_size:(k+1)*batch_size,], y:y_train[k*batch_size:(k+1)*batch_size,]}\n",
    "            _, cost  = mySession.run([trainIt,c], feed_dict = feedDict)\n",
    "            myC.append(cost)\n",
    "        myC = np.mean(myC)\n",
    "        myCosts.append(myC)\n",
    "        if (i%1000==0):\n",
    "            print(\"Cost at epoch %d = %f\"%(i,myC))\n",
    "            \n",
    "    #Optimal Learned Parameters    \n",
    "    w1_final, b1_final, W2_final, b2_final, W3_final, b3_final = mySession.run([W1, b1,W2,b2, W3, b3])\n",
    "    \n",
    "    #Predict train data (fitted data) + accuracy\n",
    "    y_pred_dnn_tf = mySession.run(outputIt, feed_dict = {x:X_train})\n",
    "    train_accuracy_tf = np.sqrt(mean_squared_error(y_pred_dnn_tf,y_train))\n",
    "    \n",
    "    #Predict test data + accuracy\n",
    "    y_test_pred_dnn_tf = mySession.run(outputIt, feed_dict = {x:X_test})\n",
    "    test_accuracy_tf = np.sqrt(mean_squared_error(y_test_pred_dnn_tf,y_test))\n",
    "    \n",
    "    print(\"Train RMSE for DNN Model (TF) = \"+str(train_accuracy_tf))\n",
    "    print(\"Test RMSE for DNN Model (TF) = \"+str(test_accuracy_tf))\n",
    "\n",
    "\n",
    "    #Plotting the Learning Curve\n",
    "    plt.title(\"Learning Curve\")\n",
    "    plt.plot(myCosts, \"y\")\n",
    "    plt.show()\n",
    "    \n",
    "    #Plotting predicted = f(true) [Train]\n",
    "    plt.title(\"Predicted Vs True (Train)\")\n",
    "    plt.scatter(y_train,y_pred_dnn_tf)\n",
    "    plt.show()\n",
    "\n",
    "\n",
    "    #Plotting predicted = f(true) [Test]\n",
    "    plt.title(\"Predicted Vs True (Test)\")\n",
    "    plt.scatter(y_test,y_test_pred_dnn_tf)\n",
    "    plt.show()\n",
    "\n"
   ]
  },
  {
   "cell_type": "markdown",
   "metadata": {},
   "source": [
    "We still have an **overfitting**, and the RMSE is still greated than the base-line model RMSE. We will proceed with some regularization methods to overcome this problem."
   ]
  },
  {
   "cell_type": "markdown",
   "metadata": {},
   "source": [
    "### Regularizing the DNN (Tensorflow)\n",
    "One of the most common regularization methods used in NN is the \"Drop-Out Regularization\", and that's what we will try in this demo. Besides, we will use an more efficient version of Gradient Descent called \"Adaptive Momentum\" which is a kind of mixture between RMSProp and Momentum Gradient Descent. It introduces 2 hyperparameters beta1 & beta2, but we will use the default values (0.9 and 0.99 respectively). With Adam optimization, we can use a larger value for the learning rate alpha since this algorithm \"adapts\" while learning.  \n",
    "- The core architecture of the NN to be used (Same as before) :  \n",
    "**Input ->(Linear[64] > Relu6 > DropOut ) -> (Linear[64] > Relu6 > DropOut) -> (Linear[64] > Relu) -> Output**  \n",
    "- Optimize : Adam  \n",
    "- Learning rate : 0.002\n",
    "- Loss : MSE  \n",
    "- Processing type : Mini-Batch (size = 101)\n",
    "- Epoches : 10000\n",
    "- Keep Prob : 0.6"
   ]
  },
  {
   "cell_type": "code",
   "execution_count": 230,
   "metadata": {},
   "outputs": [],
   "source": [
    "#HyperParameters : \n",
    "myLayers = np.array([X_train.shape[1], 64, 64,1])\n",
    "alpha = 0.01\n",
    "keepP = np.array(0.6)    #Keep Probability, a hyperparameter introduced by Drop_Out Reg.  \n",
    "                         #A Unit has P(X<keepP)=F(keepP) to stay active. X follows a Uniform Distribution within [0-1]\n",
    "#Graph building\n",
    "myGraph = tf.Graph()\n",
    "with myGraph.as_default():\n",
    "    with tf.name_scope(\"Placeholders\"):\n",
    "        x = tf.placeholder(dtype=tf.float32, shape=(None,X_train.shape[1]), name=\"input\")\n",
    "        y = tf.placeholder(dtype=tf.float32, shape=(None,1), name=\"output\")\n",
    "        keepProb = tf.placeholder(dtype=tf.float32, name=\"Keep_prob\")\n",
    "        \n",
    "    with tf.name_scope(\"h_layer1\"):\n",
    "        W1 = tf.Variable(tf.truncated_normal((myLayers[0], myLayers[1])), dtype=tf.float32)\n",
    "        b1 = tf.Variable(tf.truncated_normal((myLayers[1],)))\n",
    "        Z1 = tf.matmul(tf.squeeze(x), W1)+b1\n",
    "        A1 = tf.nn.relu6(Z1)\n",
    "        A1 = tf.nn.dropout(A1, keep_prob=keepProb)\n",
    "    with tf.name_scope(\"h_layer2\"):\n",
    "        W2 = tf.Variable(tf.truncated_normal((myLayers[1], myLayers[2])), dtype=tf.float32)\n",
    "        b2 = tf.Variable(tf.truncated_normal((myLayers[2],)))\n",
    "        Z2 = tf.matmul(A1, W2)+b2\n",
    "        A2 = tf.nn.relu6(Z2)\n",
    "        A2 = tf.nn.dropout(A2, keep_prob=keepProb)\n",
    "    with tf.name_scope(\"out_layer\"):\n",
    "        W3 = tf.Variable(tf.truncated_normal((myLayers[2], myLayers[3])), dtype=tf.float32)\n",
    "        b3 = tf.Variable(tf.truncated_normal((myLayers[3],)))\n",
    "        Z3 = tf.matmul(A2, W3)+b3\n",
    "        outputIt = tf.nn.relu(Z3)\n",
    "        \n",
    "    with tf.name_scope(\"cost\"):\n",
    "        c = tf.reduce_mean((y-outputIt)**2)\n",
    "    \n",
    "    with tf.name_scope(\"optimizer\"):\n",
    "        trainIt = tf.train.AdamOptimizer(learning_rate=alpha).minimize(c)\n",
    "    \n",
    "    initializer = tf.global_variables_initializer()\n",
    "    "
   ]
  },
  {
   "cell_type": "code",
   "execution_count": 231,
   "metadata": {},
   "outputs": [
    {
     "name": "stdout",
     "output_type": "stream",
     "text": [
      "Cost at epoch 0 (average batches) = 459.253845\n",
      "Cost at epoch 1000 (average batches) = 10.251832\n",
      "Cost at epoch 2000 (average batches) = 6.341271\n",
      "Cost at epoch 3000 (average batches) = 4.906337\n",
      "Cost at epoch 4000 (average batches) = 4.030223\n",
      "Cost at epoch 5000 (average batches) = 4.880855\n",
      "Cost at epoch 6000 (average batches) = 6.085420\n",
      "Cost at epoch 7000 (average batches) = 5.286377\n",
      "Cost at epoch 8000 (average batches) = 4.564999\n",
      "Cost at epoch 9000 (average batches) = 5.513671\n",
      "Train RMSE for DNN Model (TF) = 1.1176556337359704\n",
      "Test RMSE for DNN Model (TF) = 3.40790227680122\n"
     ]
    },
    {
     "data": {
      "image/png": "[encoded data removed]",
      "text/plain": [
       "<Figure size 432x288 with 1 Axes>"
      ]
     },
     "metadata": {},
     "output_type": "display_data"
    },
    {
     "data": {
      "image/png": "[encoded data removed]",
      "text/plain": [
       "<Figure size 432x288 with 1 Axes>"
      ]
     },
     "metadata": {},
     "output_type": "display_data"
    },
    {
     "data": {
      "image/png": "[encoded data removed]",
      "text/plain": [
       "<Figure size 432x288 with 1 Axes>"
      ]
     },
     "metadata": {},
     "output_type": "display_data"
    }
   ],
   "source": [
    "#Run the session : \n",
    "#Train Parameters :\n",
    "n_epoches = 10000\n",
    "batch_size = 101\n",
    "n_batches = X_train.shape[0]//batch_size\n",
    "\n",
    "mySession = tf.Session(graph=myGraph)\n",
    "with tf.Session(graph=myGraph) as mySession : \n",
    "    mySession.run(initializer)\n",
    "    myCosts = list()\n",
    "    \n",
    "    for i in range(n_epoches):\n",
    "        myC = list()\n",
    "        for k in range(n_batches):\n",
    "            feedDict = {x:X_train[k*batch_size:(k+1)*batch_size,], y:y_train[k*batch_size:(k+1)*batch_size,], keepProb : keepP}\n",
    "            _, cost  = mySession.run([trainIt,c], feed_dict = feedDict)\n",
    "            myC.append(cost)\n",
    "        myC = np.mean(myC)\n",
    "        myCosts.append(myC)\n",
    "        if (i%1000==0):\n",
    "            print(\"Cost at epoch %d (average batches) = %f\"%(i,myC))\n",
    "            \n",
    "    #Optimal Learned Parameters    \n",
    "    w1_final, b1_final, W2_final, b2_final, W3_final, b3_final = mySession.run([W1, b1,W2,b2, W3, b3])\n",
    "    \n",
    "    #Predict train data (fitted data) + accuracy\n",
    "    y_pred = mySession.run(outputIt, feed_dict = {x:X_train,  keepProb : 1})\n",
    "    train_accuracy_tf = np.sqrt(mean_squared_error(y_pred,y_train))\n",
    "    \n",
    "    #Predict test data + accuracy\n",
    "    y_test_pred = mySession.run(outputIt, feed_dict = {x:X_test,  keepProb : 1})\n",
    "    test_accuracy_tf = np.sqrt(mean_squared_error(y_test_pred,y_test))\n",
    "    \n",
    "    print(\"Train RMSE for DNN Model (TF) = \"+str(train_accuracy_tf))\n",
    "    print(\"Test RMSE for DNN Model (TF) = \"+str(test_accuracy_tf))\n",
    "\n",
    "\n",
    "    #Plotting the Learning Curve\n",
    "    plt.title(\"Learning Curve\")\n",
    "    plt.plot(myCosts, \"y\")\n",
    "    plt.show()\n",
    "    \n",
    "    #Plotting predicted = f(true) [Train]\n",
    "    plt.title(\"Predicted Vs True (Train)\")\n",
    "    plt.scatter(y_train,y_pred)\n",
    "    plt.show()\n",
    "\n",
    "\n",
    "    #Plotting predicted = f(true) [Test]\n",
    "    plt.title(\"Predicted Vs True (Test)\")\n",
    "    plt.scatter(y_test,y_test_pred)\n",
    "    plt.show()\n",
    "\n",
    "\n"
   ]
  },
  {
   "cell_type": "markdown",
   "metadata": {},
   "source": [
    "After these basic regularizations, we obtain a model with a reduced overfitting effect and a higher accuracy."
   ]
  },
  {
   "cell_type": "code",
   "execution_count": null,
   "metadata": {},
   "outputs": [],
   "source": []
  }
 ],
 "metadata": {
  "kernelspec": {
   "display_name": "Python 3",
   "language": "python",
   "name": "python3"
  },
  "language_info": {
   "codemirror_mode": {
    "name": "ipython",
    "version": 3
   },
   "file_extension": ".py",
   "mimetype": "text/x-python",
   "name": "python",
   "nbconvert_exporter": "python",
   "pygments_lexer": "ipython3",
   "version": "3.6.5"
  }
 },
 "nbformat": 4,
 "nbformat_minor": 2
}
